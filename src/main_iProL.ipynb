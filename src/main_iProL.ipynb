{
 "cells": [
  {
   "cell_type": "code",
   "execution_count": null,
   "metadata": {
    "collapsed": true
   },
   "outputs": [],
   "source": [
    "%load_ext autoreload\n",
    "%autoreload 2\n",
    "\n",
    "from warnings import filterwarnings\n",
    "\n",
    "import torch\n",
    "import torch.nn as nn\n",
    "\n",
    "import config_iProL as config\n",
    "from dataset import get_datasets, get_cv_dataloader_list\n",
    "from dataset import get_excel, get_complete_data\n",
    "from module import Longformer_base_Net\n",
    "from tools import check_result_dir\n",
    "from tools_fit import model_fit"
   ]
  },
  {
   "cell_type": "code",
   "execution_count": null,
   "outputs": [],
   "source": [
    "sheet = get_excel(version='', sheet_name='dataset')\n",
    "complete_data = get_complete_data(sheet)\n",
    "\n",
    "dataset_identify, _, _ = get_datasets(complete_data)\n",
    "\n",
    "identify_dataset_list, identify_loader_list = get_cv_dataloader_list(config, dataset_identify, \"Pro\")"
   ],
   "metadata": {
    "collapsed": false
   }
  },
  {
   "cell_type": "code",
   "execution_count": null,
   "outputs": [],
   "source": [
    "filterwarnings(\"ignore\")\n",
    "# torch.manual_seed(0)\n",
    "# torch.cuda.manual_seed(0)"
   ],
   "metadata": {
    "collapsed": false
   }
  },
  {
   "cell_type": "code",
   "execution_count": null,
   "outputs": [],
   "source": [
    "\"\"\"\n",
    "识别promoter：Pro\n",
    "\"\"\"\n",
    "for cv_idx, (train_loader, test_loader) in enumerate(identify_loader_list, 1):\n",
    "    check_result_dir(config, cv_idx)\n",
    "    # model = Longformer_base_lstm_Net(config.model_name, config.device,\n",
    "    #                                  config.add_special_tokens,\n",
    "    #                                  bidirectional=config.bidirectional,\n",
    "    #                                  num_layers=config.num_layers)\n",
    "    \"\"\"去掉一个CNN，dense1参数 in_channels进入\"\"\"\n",
    "    # model = Longformer_base_2cnn_lstm_Net(config.model_name, config.device,\n",
    "    #                                  config.add_special_tokens,\n",
    "    #                                  bidirectional=config.bidirectional,\n",
    "    #                                  num_layers=config.num_layers)\n",
    "    \"\"\"Longformer_base_lstm_BNpos_Net: 修改BN到pooling之后dropout之前， 美纱用\"\"\"\n",
    "    # model = Longformer_base_lstm_BNpos_Net(config.model_name, config.device,\n",
    "    #                                  config.add_special_tokens,\n",
    "    #                                  bidirectional=config.bidirectional,\n",
    "    #                                  num_layers=config.num_layers)\n",
    "    \"\"\"\n",
    "    没有LSTM\n",
    "    \"\"\"\n",
    "    model = Longformer_base_Net(config.model_name, config.device,\n",
    "                                     config.add_special_tokens)\n",
    "    model.to(config.device)\n",
    "\n",
    "    # 这里是一般情况，共享层往往不止一层，所以做一个for循环\n",
    "    if hasattr(model, 'longformer') and config.not_fine_tuning:\n",
    "        for para in model.longformer.parameters():\n",
    "            para.requires_grad = False\n",
    "        # print(module.parameters())\n",
    "\n",
    "    optimizer = torch.optim.Adam(filter(lambda p: p.requires_grad, model.parameters()), lr=config.lr)\n",
    "    scheduler = torch.optim.lr_scheduler.StepLR(optimizer, 50, gamma=0.6)\n",
    "    criterion = nn.BCELoss()\n",
    "\n",
    "    model_fit(config, model, train_loader, test_loader, optimizer, criterion, scheduler, 0.86, cv_idx)\n"
   ],
   "metadata": {
    "collapsed": false
   }
  },
  {
   "cell_type": "code",
   "execution_count": null,
   "outputs": [],
   "source": [
    "import time\n",
    "\n",
    "now_time = time.strftime('%m%d%H%M%S', time.localtime())\n",
    "print(f\"『now_time』:{now_time}\")"
   ],
   "metadata": {
    "collapsed": false
   }
  }
 ],
 "metadata": {
  "kernelspec": {
   "display_name": "Python 3",
   "language": "python",
   "name": "python3"
  },
  "language_info": {
   "codemirror_mode": {
    "name": "ipython",
    "version": 2
   },
   "file_extension": ".py",
   "mimetype": "text/x-python",
   "name": "python",
   "nbconvert_exporter": "python",
   "pygments_lexer": "ipython2",
   "version": "2.7.6"
  }
 },
 "nbformat": 4,
 "nbformat_minor": 0
}
